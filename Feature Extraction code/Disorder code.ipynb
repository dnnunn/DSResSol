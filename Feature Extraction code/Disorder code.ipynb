{
 "cells": [
  {
   "cell_type": "code",
   "execution_count": 1,
   "metadata": {},
   "outputs": [],
   "source": [
    "import pandas as pd\n",
    "import numpy as np\n",
    "import re\n"
   ]
  },
  {
   "cell_type": "code",
   "execution_count": 2,
   "metadata": {},
   "outputs": [],
   "source": [
    "df = pd.read_csv('dis.csv')\n",
    "dl = pd.read_csv('nseq.csv')\n",
    "dl = dl.loc[:, ~dl.columns.str.contains('^Unnamed')]\n",
    "dl['dis']= df['Seq']"
   ]
  },
  {
   "cell_type": "code",
   "execution_count": 3,
   "metadata": {},
   "outputs": [],
   "source": [
    "a0=[] # calculate length of each protein \n",
    "for i in range(len(df)):\n",
    "    a0.append(len(df['Seq'][i]))\n",
    "\n",
    "a1=[] # calculate number of disorder content in each protein \n",
    "for k in range(len(df)):\n",
    "    a1.append(df['Seq'][k].count('D'))\n",
    "\n",
    "a2 =[] # split all disorder segments of each protein and save it in a list\n",
    "for i in range(len(df)):\n",
    "    c =re.split('O', df['Seq'][i])\n",
    "    a2.append([x for x in c if x != ''])\n",
    "\n",
    "a3 = [] # find the length of each disorder segment in each protein and save it on a list of each protein\n",
    "for i in range(len(df)):\n",
    "    a4 = []\n",
    "    for j in range(len(a2[i])):\n",
    "        a4.append(len(a2[i][j]))\n",
    "    a3.append(a4) \n",
    "    \n",
    "a7 = [] # number of disorder region for each protein \n",
    "for i in range(len(a2)):\n",
    "    a7.append(len(a2[i]))\n",
    "\n",
    "a8 =[] \n",
    "for i in range(len(df)):\n",
    "    a8.append(a1[i]/a0[i])\n",
    "#print(a8)\n",
    "\n",
    "h1,h2,h3,h4,h5,h6 = [],[],[],[],[],[] # findign number of the disorder region in each protein having less than 10 amino acids between 10 and 20 and ...\n",
    "#c1,c2=0,0\n",
    "for i in range(len(df)):\n",
    "    c1,c2,c3,c4,c5,c6 = 0,0,0,0,0,0\n",
    "    for j in range(len(a3[i])):\n",
    "\n",
    "        if  0<= a3[i][j] <= 10:\n",
    "            c1 += 1\n",
    "        elif 10 < a3[i][j] <= 20:\n",
    "            c2 += 1\n",
    "        elif 20 < a3[i][j] <= 30:\n",
    "            c3 += 1\n",
    "        elif 30 < a3[i][j] <= 40:\n",
    "            c4 += 1\n",
    "        elif 40 < a3[i][j] <= 50:\n",
    "            c5 += 1\n",
    "        elif 50 < a3[i][j]:\n",
    "            c6 += 1\n",
    "\n",
    "    h1.append(c1)\n",
    "    h2.append(c2)\n",
    "    h3.append(c3)\n",
    "    h4.append(c4)\n",
    "    h5.append(c5)\n",
    "    h6.append(c6)\n",
    "\n",
    "n =[] # finding the what type of amino acid residue contributed in disorder regions\n",
    "for i in range(len(df)):\n",
    "    k=[]\n",
    "    for j in range(len(df['Seq'][i])):\n",
    "        if df['Seq'][i][j]== 'D':\n",
    "            k.append(dl['Seq'][i][j])\n",
    "    n.append(k) \n",
    "\n",
    "b1,b2,b3,b4,b5,b6,b7,b8,b9,b10,b11,b12,b13,b14,b15,b16,b17,b18,b19,b20 = [],[],[],[],[],[],[],[],[],[],[],[],[],[],[],[],[],[],[],[]\n",
    "for k in range(len(df)): # finding the number of each specific amino acid residue contributed in disorder regions\n",
    "    b1.append(n[k].count('A'))\n",
    "    b2.append(n[k].count('R'))\n",
    "    b3.append(n[k].count('Q'))\n",
    "    b4.append(n[k].count('G'))\n",
    "    b5.append(n[k].count('K'))\n",
    "    b6.append(n[k].count('I'))\n",
    "    b7.append(n[k].count('E'))\n",
    "    b8.append(n[k].count('F'))\n",
    "    b9.append(n[k].count('L'))\n",
    "    b10.append(n[k].count('T'))\n",
    "    b11.append(n[k].count('N'))\n",
    "    b12.append(n[k].count('D'))\n",
    "    b13.append(n[k].count('C'))\n",
    "    b14.append(n[k].count('H'))\n",
    "    b15.append(n[k].count('M'))\n",
    "    b16.append(n[k].count('P'))\n",
    "    b17.append(n[k].count('S'))\n",
    "    b18.append(n[k].count('W'))\n",
    "    b19.append(n[k].count('Y'))\n",
    "    b20.append(n[k].count('V'))\n",
    "\n",
    "v1,v2,v3,v4,v5,v6,v7,v8,v9,v10,v11,v12,v13,v14,v15,v16,v17,v18,v19,v20 = [],[],[],[],[],[],[],[],[],[],[],[],[],[],[],[],[],[],[],[]\n",
    "for k in range(len(df)): # finding the frequency of each specific amino acid residue contributed in disorder regions\n",
    "    v1.append(b1[k]/a1[k])\n",
    "    v2.append(b2[k]/a1[k])\n",
    "    v3.append(b3[k]/a1[k])\n",
    "    v4.append(b4[k]/a1[k])\n",
    "    v5.append(b5[k]/a1[k])\n",
    "    v6.append(b6[k]/a1[k])\n",
    "    v7.append(b7[k]/a1[k])\n",
    "    v8.append(b8[k]/a1[k])\n",
    "    v9.append(b9[k]/a1[k])\n",
    "    v10.append(b10[k]/a1[k])\n",
    "    v11.append(b11[k]/a1[k])\n",
    "    v12.append(b12[k]/a1[k])\n",
    "    v13.append(b13[k]/a1[k])\n",
    "    v14.append(b14[k]/a1[k])\n",
    "    v15.append(b15[k]/a1[k])\n",
    "    v16.append(b16[k]/a1[k])\n",
    "    v17.append(b17[k]/a1[k])\n",
    "    v18.append(b18[k]/a1[k])\n",
    "    v19.append(b19[k]/a1[k])\n",
    "    v20.append(b20[k]/a1[k])\n",
    "   \n",
    "df['dis_content'] = a8\n",
    "df['num_dis_segment']= a7\n",
    "df['dis_10AA']= h1\n",
    "df['dis_20AA']= h2\n",
    "df['dis_30AA']= h3\n",
    "df['dis_40AA']= h4\n",
    "df['dis_50AA']= h5\n",
    "df['dis_more_50AA']= h6\n",
    "df['dis_A']= v1\n",
    "df['dis_R']= v2\n",
    "df['dis_Q']= v3\n",
    "df['dis_G']= v4\n",
    "df['dis_K']= v5\n",
    "df['dis_I']= v6\n",
    "df['dis_E']= v7\n",
    "df['dis_F']= v8\n",
    "df['dis_L']= v9\n",
    "df['dis_T']= v10\n",
    "df['dis_N']= v11\n",
    "df['dis_D']= v12\n",
    "df['dis_C']= v13\n",
    "df['dis_H']= v14\n",
    "df['dis_M']= v15\n",
    "df['dis_P']= v16\n",
    "df['dis_S']= v17\n",
    "df['dis_W']= v18\n",
    "df['dis_Y']= v19\n",
    "df['dis_V']= v20\n",
    "del df['Seq']\n",
    "\n",
    "df.to_csv('e.csv', index = False) "
   ]
  },
  {
   "cell_type": "code",
   "execution_count": 12,
   "metadata": {},
   "outputs": [
    {
     "name": "stdout",
     "output_type": "stream",
     "text": [
      "<class 'pandas.core.frame.DataFrame'>\n",
      "RangeIndex: 8 entries, 0 to 7\n",
      "Data columns (total 29 columns):\n",
      " #   Column           Non-Null Count  Dtype  \n",
      "---  ------           --------------  -----  \n",
      " 0   Seq              8 non-null      object \n",
      " 1   dis_content      8 non-null      float64\n",
      " 2   num_dis_segment  8 non-null      int64  \n",
      " 3   dis_10AA         8 non-null      int64  \n",
      " 4   dis_20AA         8 non-null      int64  \n",
      " 5   dis_30AA         8 non-null      int64  \n",
      " 6   dis_40AA         8 non-null      int64  \n",
      " 7   dis_50AA         8 non-null      int64  \n",
      " 8   dis_more_50AA    8 non-null      int64  \n",
      " 9   dis_A            8 non-null      float64\n",
      " 10  dis_R            8 non-null      float64\n",
      " 11  dis_Q            8 non-null      float64\n",
      " 12  dis_G            8 non-null      float64\n",
      " 13  dis_K            8 non-null      float64\n",
      " 14  dis_I            8 non-null      float64\n",
      " 15  dis_E            8 non-null      float64\n",
      " 16  dis_F            8 non-null      float64\n",
      " 17  dis_L            8 non-null      float64\n",
      " 18  dis_T            8 non-null      float64\n",
      " 19  dis_N            8 non-null      float64\n",
      " 20  dis_D            8 non-null      float64\n",
      " 21  dis_C            8 non-null      float64\n",
      " 22  dis_H            8 non-null      float64\n",
      " 23  dis_M            8 non-null      float64\n",
      " 24  dis_P            8 non-null      float64\n",
      " 25  dis_S            8 non-null      float64\n",
      " 26  dis_W            8 non-null      float64\n",
      " 27  dis_Y            8 non-null      float64\n",
      " 28  dis_V            8 non-null      float64\n",
      "dtypes: float64(21), int64(7), object(1)\n",
      "memory usage: 1.9+ KB\n"
     ]
    }
   ],
   "source": [
    "df.info()"
   ]
  },
  {
   "cell_type": "code",
   "execution_count": 21,
   "metadata": {},
   "outputs": [],
   "source": []
  },
  {
   "cell_type": "code",
   "execution_count": 22,
   "metadata": {},
   "outputs": [],
   "source": []
  },
  {
   "cell_type": "code",
   "execution_count": 23,
   "metadata": {},
   "outputs": [],
   "source": []
  },
  {
   "cell_type": "code",
   "execution_count": 24,
   "metadata": {},
   "outputs": [],
   "source": [
    "\n"
   ]
  },
  {
   "cell_type": "code",
   "execution_count": 25,
   "metadata": {},
   "outputs": [],
   "source": []
  },
  {
   "cell_type": "code",
   "execution_count": 26,
   "metadata": {},
   "outputs": [],
   "source": [
    "\n"
   ]
  },
  {
   "cell_type": "code",
   "execution_count": null,
   "metadata": {},
   "outputs": [],
   "source": []
  },
  {
   "cell_type": "code",
   "execution_count": null,
   "metadata": {},
   "outputs": [],
   "source": []
  },
  {
   "cell_type": "code",
   "execution_count": 23,
   "metadata": {},
   "outputs": [],
   "source": []
  },
  {
   "cell_type": "code",
   "execution_count": 28,
   "metadata": {},
   "outputs": [],
   "source": []
  },
  {
   "cell_type": "code",
   "execution_count": null,
   "metadata": {},
   "outputs": [],
   "source": []
  },
  {
   "cell_type": "code",
   "execution_count": null,
   "metadata": {},
   "outputs": [],
   "source": []
  },
  {
   "cell_type": "code",
   "execution_count": 29,
   "metadata": {},
   "outputs": [],
   "source": [
    "   "
   ]
  },
  {
   "cell_type": "code",
   "execution_count": 30,
   "metadata": {},
   "outputs": [],
   "source": []
  },
  {
   "cell_type": "code",
   "execution_count": 31,
   "metadata": {},
   "outputs": [],
   "source": []
  },
  {
   "cell_type": "code",
   "execution_count": 32,
   "metadata": {},
   "outputs": [],
   "source": []
  },
  {
   "cell_type": "code",
   "execution_count": null,
   "metadata": {},
   "outputs": [],
   "source": []
  },
  {
   "cell_type": "code",
   "execution_count": 34,
   "metadata": {},
   "outputs": [],
   "source": []
  },
  {
   "cell_type": "code",
   "execution_count": null,
   "metadata": {},
   "outputs": [],
   "source": []
  },
  {
   "cell_type": "code",
   "execution_count": null,
   "metadata": {},
   "outputs": [],
   "source": []
  }
 ],
 "metadata": {
  "kernelspec": {
   "display_name": "Python 3",
   "language": "python",
   "name": "python3"
  },
  "language_info": {
   "codemirror_mode": {
    "name": "ipython",
    "version": 3
   },
   "file_extension": ".py",
   "mimetype": "text/x-python",
   "name": "python",
   "nbconvert_exporter": "python",
   "pygments_lexer": "ipython3",
   "version": "3.8.10"
  }
 },
 "nbformat": 4,
 "nbformat_minor": 4
}
