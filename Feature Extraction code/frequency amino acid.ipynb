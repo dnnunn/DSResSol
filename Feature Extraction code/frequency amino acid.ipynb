{
 "cells": [
  {
   "cell_type": "code",
   "execution_count": 1,
   "metadata": {},
   "outputs": [],
   "source": [
    "import numpy as np\n",
    "import pandas as pd\n",
    "dl = pd.read_csv('nseq.csv')\n",
    "Seq_list = dl['Seq'].to_list()\n",
    "\n",
    "o =[]\n",
    "b = ['A','C','D','E','F','G','H','I','K','L','M','N','P','Q','R','S','T','V','W','Y'] \n",
    "for i in range(len(Seq_list)):\n",
    "    l = []\n",
    "    #count = 0\n",
    "    for j in range(len(b)):\n",
    "        #l =[]\n",
    "        count = 0\n",
    "        for k in range(len(Seq_list[i])):\n",
    "            if b[j]==Seq_list[i][k]:\n",
    "                count += 1\n",
    "        l.append(count*(100/len(Seq_list[i])))\n",
    "    o.append(l)\n",
    "df=pd.DataFrame(o,columns=b)"
   ]
  },
  {
   "cell_type": "code",
   "execution_count": 2,
   "metadata": {},
   "outputs": [],
   "source": [
    "df.to_csv('fer.csv', index = False) "
   ]
  },
  {
   "cell_type": "code",
   "execution_count": null,
   "metadata": {},
   "outputs": [],
   "source": []
  }
 ],
 "metadata": {
  "kernelspec": {
   "display_name": "Python 3",
   "language": "python",
   "name": "python3"
  },
  "language_info": {
   "codemirror_mode": {
    "name": "ipython",
    "version": 3
   },
   "file_extension": ".py",
   "mimetype": "text/x-python",
   "name": "python",
   "nbconvert_exporter": "python",
   "pygments_lexer": "ipython3",
   "version": "3.8.10"
  }
 },
 "nbformat": 4,
 "nbformat_minor": 4
}
