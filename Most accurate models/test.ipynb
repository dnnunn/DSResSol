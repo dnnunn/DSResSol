{
 "cells": [
  {
   "cell_type": "code",
   "execution_count": 68,
   "metadata": {},
   "outputs": [],
   "source": [
    "import os\n",
    "import gc\n",
    "\n",
    "import numpy as np\n",
    "import pandas as pd\n",
    "import matplotlib.pyplot as plt\n",
    "import seaborn as sns\n",
    "\n",
    "from collections import Counter\n",
    "from IPython.display import Image\n",
    "\n",
    "from sklearn.preprocessing import LabelEncoder\n",
    "import tensorflow as tf\n",
    "from tensorflow.keras.models import Model\n",
    "from tensorflow.keras.regularizers import l2\n",
    "from tensorflow.keras.constraints import max_norm\n",
    "from tensorflow.keras.utils import to_categorical\n",
    "from tensorflow.keras.preprocessing.text import Tokenizer\n",
    "from tensorflow.keras.preprocessing.sequence import pad_sequences\n",
    "from tensorflow.keras.callbacks import EarlyStopping\n",
    "from tensorflow.keras.layers import Input, Dense, Dropout, Flatten, Activation, Reshape, Multiply, Add\n",
    "from tensorflow.keras.layers import Conv1D, Add, MaxPooling1D, BatchNormalization,LeakyReLU\n",
    "from tensorflow.keras.layers import Embedding, Bidirectional,LSTM, GlobalMaxPooling1D\n",
    "from tensorflow.keras import layers\n",
    "from sklearn.preprocessing import LabelEncoder\n",
    "from tensorflow.keras.layers import concatenate\n",
    "from sklearn.model_selection import train_test_split\n",
    "from sklearn.metrics import r2_score\n",
    "# Confusion Matrix\n",
    "from tensorflow.keras import metrics\n",
    "from sklearn.metrics import confusion_matrix\n",
    "\n",
    "from sklearn.metrics import accuracy_score\n",
    "from sklearn.metrics import recall_score\n",
    "# Precision\n",
    "from sklearn.metrics import precision_score\n",
    "\n",
    "from sklearn.model_selection import train_test_split\n",
    "from sklearn.model_selection import KFold\n",
    "from sklearn.model_selection import StratifiedKFold\n",
    "import sklearn.metrics\n",
    "from tensorflow.keras.optimizers import Adam\n",
    "from tensorflow.keras import models"
   ]
  },
  {
   "cell_type": "code",
   "execution_count": 69,
   "metadata": {},
   "outputs": [],
   "source": [
    "df_peptide = pd.read_csv(\"peptide.csv\")"
   ]
  },
  {
   "cell_type": "code",
   "execution_count": 70,
   "metadata": {},
   "outputs": [],
   "source": [
    "def get_code_freq(df, data_name):\n",
    "  \n",
    "  df = df.apply(lambda x: \" \".join(x))\n",
    "  \n",
    "  codes = []\n",
    "  for i in df: # concatination of all codes\n",
    "    codes.extend(i)\n",
    "\n",
    "  codes_dict= Counter(codes)\n",
    "  codes_dict.pop(' ') # removing white space\n",
    "  \n",
    "  print(f'Codes: {data_name}')\n",
    "  print(f'Total unique codes: {len(codes_dict.keys())}')\n",
    "\n",
    "  df = pd.DataFrame({'Code': list(codes_dict.keys()), 'Freq': list(codes_dict.values())})\n",
    "  return df.sort_values('Freq', ascending=False).reset_index()[['Code', 'Freq']]"
   ]
  },
  {
   "cell_type": "code",
   "execution_count": 71,
   "metadata": {},
   "outputs": [],
   "source": [
    "codes = ['A', 'C', 'D', 'E', 'F', 'G', 'H', 'I', 'K', 'L',\n",
    "         'M', 'N', 'P', 'Q', 'R', 'S', 'T', 'V', 'W', 'Y']\n",
    "\n",
    "def create_dict(codes):\n",
    "  char_dict = {}\n",
    "  for index, val in enumerate(codes):\n",
    "    char_dict[val] = index+1\n",
    "\n",
    "  return char_dict\n",
    "\n",
    "char_dict = create_dict(codes)\n",
    "\n",
    "#print(char_dict)\n",
    "#print(\"Dict Length:\", len(char_dict))"
   ]
  },
  {
   "cell_type": "code",
   "execution_count": 72,
   "metadata": {},
   "outputs": [],
   "source": [
    "def integer_encoding(data):\n",
    "  \"\"\"\n",
    "  - Encodes code sequence to integer values.\n",
    "  - 20 common amino acids are taken into consideration\n",
    "    and rest 4 are categorized as 0.\n",
    "  \"\"\"\n",
    "  \n",
    "  encode_list = []\n",
    "  for row in data['Seq'].values:\n",
    "    row_encode = []\n",
    "    for code in row:\n",
    "      row_encode.append(char_dict.get(code, 0))\n",
    "    encode_list.append(np.array(row_encode))\n",
    "  \n",
    "  return encode_list"
   ]
  },
  {
   "cell_type": "code",
   "execution_count": 75,
   "metadata": {},
   "outputs": [],
   "source": [
    "peptide_encode= integer_encoding(df_peptide)\n",
    "peptide_pad = pad_sequences(peptide_encode, maxlen=max_length, padding='post', truncating='post')\n"
   ]
  },
  {
   "cell_type": "code",
   "execution_count": 76,
   "metadata": {},
   "outputs": [],
   "source": [
    "save_model=models.load_model('model5_dense_seq6.h5')"
   ]
  },
  {
   "cell_type": "code",
   "execution_count": 77,
   "metadata": {},
   "outputs": [],
   "source": [
    "y_pred= save_model.predict([peptide_pad])"
   ]
  },
  {
   "cell_type": "code",
   "execution_count": null,
   "metadata": {},
   "outputs": [],
   "source": []
  }
 ],
 "metadata": {
  "kernelspec": {
   "display_name": "Python 3",
   "language": "python",
   "name": "python3"
  },
  "language_info": {
   "codemirror_mode": {
    "name": "ipython",
    "version": 3
   },
   "file_extension": ".py",
   "mimetype": "text/x-python",
   "name": "python",
   "nbconvert_exporter": "python",
   "pygments_lexer": "ipython3",
   "version": "3.7.6"
  }
 },
 "nbformat": 4,
 "nbformat_minor": 4
}
